{
 "metadata": {
  "name": "",
  "signature": "sha256:00a7665a8014664c630232f711ec95181145da5756a128ceb907a37075f13484"
 },
 "nbformat": 3,
 "nbformat_minor": 0,
 "worksheets": []
}