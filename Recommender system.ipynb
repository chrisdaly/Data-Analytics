{
 "metadata": {
  "name": "",
  "signature": "sha256:809a2055bea5e5a67611d2ee7a95b92cf2b2162ef08d1cb63e6f42f8e00d8e4c"
 },
 "nbformat": 3,
 "nbformat_minor": 0,
 "worksheets": [
  {
   "cells": [
    {
     "cell_type": "heading",
     "level": 1,
     "metadata": {},
     "source": [
      "Building a recommender system"
     ]
    },
    {
     "cell_type": "markdown",
     "metadata": {},
     "source": [
      "In this notebook I'm going to build a user-based recommender system using the MovieLens data set. When it's complete, you'll be able to predict users' ratings for films they haven't yet seen. If you like, you can even add yourself to the data set and get a film recommendation for when you're done (more on this at the end)."
     ]
    },
    {
     "cell_type": "code",
     "collapsed": false,
     "input": [
      "import pandas as pd\n",
      "from pandas import DataFrame, Series\n",
      "import numpy as np\n",
      "from scipy.stats import pearsonr"
     ],
     "language": "python",
     "metadata": {},
     "outputs": [],
     "prompt_number": 1
    },
    {
     "cell_type": "heading",
     "level": 2,
     "metadata": {},
     "source": [
      "Loading the data"
     ]
    },
    {
     "cell_type": "markdown",
     "metadata": {},
     "source": [
      "Enter the location of the data file below:"
     ]
    },
    {
     "cell_type": "code",
     "collapsed": false,
     "input": [
      "path = \"data/movielens/ml-100k/data.csv\""
     ],
     "language": "python",
     "metadata": {},
     "outputs": [],
     "prompt_number": 2
    },
    {
     "cell_type": "markdown",
     "metadata": {},
     "source": [
      "Load the data:"
     ]
    },
    {
     "cell_type": "code",
     "collapsed": false,
     "input": [
      "df = pd.read_csv(path, index_col=\"user_id\")\n",
      "df.head()"
     ],
     "language": "python",
     "metadata": {},
     "outputs": [
      {
       "html": [
        "<div style=\"max-height:1000px;max-width:1500px;overflow:auto;\">\n",
        "<table border=\"1\" class=\"dataframe\">\n",
        "  <thead>\n",
        "    <tr style=\"text-align: right;\">\n",
        "      <th></th>\n",
        "      <th>Kolya (1996)</th>\n",
        "      <th>L.A. Confidential (1997)</th>\n",
        "      <th>Heavyweights (1994)</th>\n",
        "      <th>Legends of the Fall (1994)</th>\n",
        "      <th>Jackie Brown (1997)</th>\n",
        "      <th>Dr. Strangelove or: How I Learned to Stop Worrying and Love the Bomb (1963)</th>\n",
        "      <th>Hunt for Red October, The (1990)</th>\n",
        "      <th>Jungle Book, The (1994)</th>\n",
        "      <th>Grease (1978)</th>\n",
        "      <th>Remains of the Day, The (1993)</th>\n",
        "      <th>...</th>\n",
        "      <th>Sleepover (1995)</th>\n",
        "      <th>Everest (1998)</th>\n",
        "      <th>Nobody Loves Me (Keiner liebt mich) (1994)</th>\n",
        "      <th>Getting Away With Murder (1996)</th>\n",
        "      <th>Scream of Stone (Schrei aus Stein) (1991)</th>\n",
        "      <th>Mamma Roma (1962)</th>\n",
        "      <th>Eighth Day, The (1996)</th>\n",
        "      <th>Girls Town (1996)</th>\n",
        "      <th>Silence of the Palace, The (Saimt el Qusur) (1994)</th>\n",
        "      <th>Dadetown (1995)</th>\n",
        "    </tr>\n",
        "    <tr>\n",
        "      <th>user_id</th>\n",
        "      <th></th>\n",
        "      <th></th>\n",
        "      <th></th>\n",
        "      <th></th>\n",
        "      <th></th>\n",
        "      <th></th>\n",
        "      <th></th>\n",
        "      <th></th>\n",
        "      <th></th>\n",
        "      <th></th>\n",
        "      <th></th>\n",
        "      <th></th>\n",
        "      <th></th>\n",
        "      <th></th>\n",
        "      <th></th>\n",
        "      <th></th>\n",
        "      <th></th>\n",
        "      <th></th>\n",
        "      <th></th>\n",
        "      <th></th>\n",
        "      <th></th>\n",
        "    </tr>\n",
        "  </thead>\n",
        "  <tbody>\n",
        "    <tr>\n",
        "      <th>1</th>\n",
        "      <td>  5</td>\n",
        "      <td>NaN</td>\n",
        "      <td>NaN</td>\n",
        "      <td>  4</td>\n",
        "      <td>NaN</td>\n",
        "      <td>NaN</td>\n",
        "      <td>  4</td>\n",
        "      <td>NaN</td>\n",
        "      <td>NaN</td>\n",
        "      <td>  5</td>\n",
        "      <td>...</td>\n",
        "      <td>NaN</td>\n",
        "      <td>NaN</td>\n",
        "      <td>NaN</td>\n",
        "      <td>NaN</td>\n",
        "      <td>NaN</td>\n",
        "      <td>NaN</td>\n",
        "      <td>NaN</td>\n",
        "      <td>NaN</td>\n",
        "      <td>NaN</td>\n",
        "      <td>NaN</td>\n",
        "    </tr>\n",
        "    <tr>\n",
        "      <th>2</th>\n",
        "      <td>  5</td>\n",
        "      <td>  5</td>\n",
        "      <td>NaN</td>\n",
        "      <td>NaN</td>\n",
        "      <td>NaN</td>\n",
        "      <td>NaN</td>\n",
        "      <td>NaN</td>\n",
        "      <td>NaN</td>\n",
        "      <td>NaN</td>\n",
        "      <td>NaN</td>\n",
        "      <td>...</td>\n",
        "      <td>NaN</td>\n",
        "      <td>NaN</td>\n",
        "      <td>NaN</td>\n",
        "      <td>NaN</td>\n",
        "      <td>NaN</td>\n",
        "      <td>NaN</td>\n",
        "      <td>NaN</td>\n",
        "      <td>NaN</td>\n",
        "      <td>NaN</td>\n",
        "      <td>NaN</td>\n",
        "    </tr>\n",
        "    <tr>\n",
        "      <th>3</th>\n",
        "      <td>NaN</td>\n",
        "      <td>  2</td>\n",
        "      <td>NaN</td>\n",
        "      <td>NaN</td>\n",
        "      <td>  5</td>\n",
        "      <td>NaN</td>\n",
        "      <td>NaN</td>\n",
        "      <td>NaN</td>\n",
        "      <td>NaN</td>\n",
        "      <td>NaN</td>\n",
        "      <td>...</td>\n",
        "      <td>NaN</td>\n",
        "      <td>NaN</td>\n",
        "      <td>NaN</td>\n",
        "      <td>NaN</td>\n",
        "      <td>NaN</td>\n",
        "      <td>NaN</td>\n",
        "      <td>NaN</td>\n",
        "      <td>NaN</td>\n",
        "      <td>NaN</td>\n",
        "      <td>NaN</td>\n",
        "    </tr>\n",
        "    <tr>\n",
        "      <th>4</th>\n",
        "      <td>NaN</td>\n",
        "      <td>NaN</td>\n",
        "      <td>NaN</td>\n",
        "      <td>NaN</td>\n",
        "      <td>NaN</td>\n",
        "      <td>NaN</td>\n",
        "      <td>NaN</td>\n",
        "      <td>NaN</td>\n",
        "      <td>NaN</td>\n",
        "      <td>NaN</td>\n",
        "      <td>...</td>\n",
        "      <td>NaN</td>\n",
        "      <td>NaN</td>\n",
        "      <td>NaN</td>\n",
        "      <td>NaN</td>\n",
        "      <td>NaN</td>\n",
        "      <td>NaN</td>\n",
        "      <td>NaN</td>\n",
        "      <td>NaN</td>\n",
        "      <td>NaN</td>\n",
        "      <td>NaN</td>\n",
        "    </tr>\n",
        "    <tr>\n",
        "      <th>5</th>\n",
        "      <td>NaN</td>\n",
        "      <td>NaN</td>\n",
        "      <td>  1</td>\n",
        "      <td>NaN</td>\n",
        "      <td>NaN</td>\n",
        "      <td>NaN</td>\n",
        "      <td>NaN</td>\n",
        "      <td>NaN</td>\n",
        "      <td>  1</td>\n",
        "      <td>NaN</td>\n",
        "      <td>...</td>\n",
        "      <td>NaN</td>\n",
        "      <td>NaN</td>\n",
        "      <td>NaN</td>\n",
        "      <td>NaN</td>\n",
        "      <td>NaN</td>\n",
        "      <td>NaN</td>\n",
        "      <td>NaN</td>\n",
        "      <td>NaN</td>\n",
        "      <td>NaN</td>\n",
        "      <td>NaN</td>\n",
        "    </tr>\n",
        "  </tbody>\n",
        "</table>\n",
        "<p>5 rows \u00d7 1664 columns</p>\n",
        "</div>"
       ],
       "metadata": {},
       "output_type": "pyout",
       "prompt_number": 3,
       "text": [
        "         Kolya (1996)  L.A. Confidential (1997)  Heavyweights (1994)  \\\n",
        "user_id                                                                \n",
        "1                   5                       NaN                  NaN   \n",
        "2                   5                         5                  NaN   \n",
        "3                 NaN                         2                  NaN   \n",
        "4                 NaN                       NaN                  NaN   \n",
        "5                 NaN                       NaN                    1   \n",
        "\n",
        "         Legends of the Fall (1994)  Jackie Brown (1997)  \\\n",
        "user_id                                                    \n",
        "1                                 4                  NaN   \n",
        "2                               NaN                  NaN   \n",
        "3                               NaN                    5   \n",
        "4                               NaN                  NaN   \n",
        "5                               NaN                  NaN   \n",
        "\n",
        "         Dr. Strangelove or: How I Learned to Stop Worrying and Love the Bomb (1963)  \\\n",
        "user_id                                                                                \n",
        "1                                                      NaN                             \n",
        "2                                                      NaN                             \n",
        "3                                                      NaN                             \n",
        "4                                                      NaN                             \n",
        "5                                                      NaN                             \n",
        "\n",
        "         Hunt for Red October, The (1990)  Jungle Book, The (1994)  \\\n",
        "user_id                                                              \n",
        "1                                       4                      NaN   \n",
        "2                                     NaN                      NaN   \n",
        "3                                     NaN                      NaN   \n",
        "4                                     NaN                      NaN   \n",
        "5                                     NaN                      NaN   \n",
        "\n",
        "         Grease (1978)  Remains of the Day, The (1993)  \\\n",
        "user_id                                                  \n",
        "1                  NaN                               5   \n",
        "2                  NaN                             NaN   \n",
        "3                  NaN                             NaN   \n",
        "4                  NaN                             NaN   \n",
        "5                    1                             NaN   \n",
        "\n",
        "                      ...                Sleepover (1995)  Everest (1998)  \\\n",
        "user_id               ...                                                   \n",
        "1                     ...                             NaN             NaN   \n",
        "2                     ...                             NaN             NaN   \n",
        "3                     ...                             NaN             NaN   \n",
        "4                     ...                             NaN             NaN   \n",
        "5                     ...                             NaN             NaN   \n",
        "\n",
        "         Nobody Loves Me (Keiner liebt mich) (1994)  \\\n",
        "user_id                                               \n",
        "1                                               NaN   \n",
        "2                                               NaN   \n",
        "3                                               NaN   \n",
        "4                                               NaN   \n",
        "5                                               NaN   \n",
        "\n",
        "         Getting Away With Murder (1996)  \\\n",
        "user_id                                    \n",
        "1                                    NaN   \n",
        "2                                    NaN   \n",
        "3                                    NaN   \n",
        "4                                    NaN   \n",
        "5                                    NaN   \n",
        "\n",
        "         Scream of Stone (Schrei aus Stein) (1991)  Mamma Roma (1962)  \\\n",
        "user_id                                                                 \n",
        "1                                              NaN                NaN   \n",
        "2                                              NaN                NaN   \n",
        "3                                              NaN                NaN   \n",
        "4                                              NaN                NaN   \n",
        "5                                              NaN                NaN   \n",
        "\n",
        "         Eighth Day, The (1996)  Girls Town (1996)  \\\n",
        "user_id                                              \n",
        "1                           NaN                NaN   \n",
        "2                           NaN                NaN   \n",
        "3                           NaN                NaN   \n",
        "4                           NaN                NaN   \n",
        "5                           NaN                NaN   \n",
        "\n",
        "         Silence of the Palace, The (Saimt el Qusur) (1994)  Dadetown (1995)  \n",
        "user_id                                                                       \n",
        "1                                                      NaN               NaN  \n",
        "2                                                      NaN               NaN  \n",
        "3                                                      NaN               NaN  \n",
        "4                                                      NaN               NaN  \n",
        "5                                                      NaN               NaN  \n",
        "\n",
        "[5 rows x 1664 columns]"
       ]
      }
     ],
     "prompt_number": 3
    },
    {
     "cell_type": "markdown",
     "metadata": {},
     "source": [
      "We have 943 user ratings of 1664 different movies - that's a lot!"
     ]
    },
    {
     "cell_type": "code",
     "collapsed": false,
     "input": [
      "print df.shape"
     ],
     "language": "python",
     "metadata": {},
     "outputs": [
      {
       "output_type": "stream",
       "stream": "stdout",
       "text": [
        "(943, 1664)\n"
       ]
      }
     ],
     "prompt_number": 4
    },
    {
     "cell_type": "heading",
     "level": 2,
     "metadata": {},
     "source": [
      "Data frames and utility matrices"
     ]
    },
    {
     "cell_type": "markdown",
     "metadata": {},
     "source": [
      "We can convert our data frame to a utility matrix using its <tt>values</tt> attribute. For instance, if we want to call our utility matrix <tt>um</tt>, it's as simple as this:"
     ]
    },
    {
     "cell_type": "code",
     "collapsed": false,
     "input": [
      "um = df.values"
     ],
     "language": "python",
     "metadata": {},
     "outputs": [],
     "prompt_number": 6
    },
    {
     "cell_type": "code",
     "collapsed": false,
     "input": [
      "print um"
     ],
     "language": "python",
     "metadata": {},
     "outputs": [
      {
       "output_type": "stream",
       "stream": "stdout",
       "text": [
        "[[  5.  nan  nan ...,  nan  nan  nan]\n",
        " [  5.   5.  nan ...,  nan  nan  nan]\n",
        " [ nan   2.  nan ...,  nan  nan  nan]\n",
        " ..., \n",
        " [ nan  nan  nan ...,  nan  nan  nan]\n",
        " [ nan  nan  nan ...,  nan  nan  nan]\n",
        " [ nan  nan  nan ...,  nan  nan  nan]]\n"
       ]
      }
     ],
     "prompt_number": 7
    },
    {
     "cell_type": "markdown",
     "metadata": {},
     "source": [
      "One important point to consider is that, by converting the data frame to a utility matrix, we lose the ability to reference by label. For instance, in our utility matrix above, we've lost all the movie name information contained in our data frame. If we had user names instead of user IDs, we'd lose those too.\n",
      "\n",
      "It's not all bad though. If we need to, we can always look up the data frame's row and column labels using the indices of an entry in our utility matrix. For instance, the rating of the second entry of the second row of our matrix is 5. If we want to find out which movie this relates to, we can write:"
     ]
    },
    {
     "cell_type": "code",
     "collapsed": false,
     "input": [
      "print df.columns[1]"
     ],
     "language": "python",
     "metadata": {},
     "outputs": [
      {
       "output_type": "stream",
       "stream": "stdout",
       "text": [
        "L.A. Confidential (1997)\n"
       ]
      }
     ],
     "prompt_number": 8
    },
    {
     "cell_type": "markdown",
     "metadata": {},
     "source": [
      "For the time being, this isn't too important, but we'll need to come back to it later when we're trying to convert the outputs of our recommender system into something more human readable."
     ]
    },
    {
     "cell_type": "heading",
     "level": 2,
     "metadata": {},
     "source": [
      "Similarity measures"
     ]
    },
    {
     "cell_type": "markdown",
     "metadata": {},
     "source": [
      "There are a number of different similarity measures but to make things simpler let's stick with Pearson correlation for this recommender system.\n",
      "\n",
      "One quick note first though: we generally want to calculate similarity by measuring the difference between ratings that users or items have in common. For instance, if Adam and Paul have both rated Lethal Weapon, but only Paul has rated Rush Hour, then it only makes sense to calculate how similar Adam is to Paul based on their mutual appreciation for Lethal Weapon. This means we'll need a way to filter out Paul's Rush Hour rating when comparing him to Adam. To save time, the <tt>get_common_ratings</tt> method below will do this for you:"
     ]
    },
    {
     "cell_type": "code",
     "collapsed": false,
     "input": [
      "def get_common_ratings(x, y):\n",
      "    \"\"\"\n",
      "    Compare the entries in the given lists and filter out instances \n",
      "    where:\n",
      "    \n",
      "      a) Neither list has a rating at a given index.\n",
      "      b) Only one of the lists has a rating at a given index.\n",
      "    \n",
      "    This method makes the assumption that unrated items are represented \n",
      "    using NumPy's special NaN value.\n",
      "    \"\"\"\n",
      "    # First, make sure our inputs are the same length. If not, \n",
      "    # then we can't proceed.\n",
      "    assert len(x) == len(y)\n",
      "    n = len(x)\n",
      "    \n",
      "    # These lists will hold the common ratings.\n",
      "    new_x = []\n",
      "    new_y = []\n",
      "    \n",
      "    # Iterate over the inputs, only adding entries that are \n",
      "    # rated in both.\n",
      "    for i in range(n):\n",
      "        if not np.isnan(x[i]) and not np.isnan(y[i]):\n",
      "            new_x.append(x[i])\n",
      "            new_y.append(y[i])\n",
      "    \n",
      "    # Return the results\n",
      "    return new_x, new_y"
     ],
     "language": "python",
     "metadata": {},
     "outputs": [],
     "prompt_number": 9
    },
    {
     "cell_type": "heading",
     "level": 3,
     "metadata": {},
     "source": [
      "Pearson correlation"
     ]
    },
    {
     "cell_type": "markdown",
     "metadata": {},
     "source": [
      "Handily enough, SciPy has already defined a method for computing the pearson correlation between two vectors, so we don't have to reinvent the wheel. The SciPy method returns two values: the correlation, which we're after, and a probability value, which we're not. For convenience, we'll wrap the SciPy method with our own custom <tt>pearson_correlation</tt> method, so that we don't have to worry about dropping the probability value every time we call it. There's no need to complete any code yet - we'll get to this shortly."
     ]
    },
    {
     "cell_type": "code",
     "collapsed": false,
     "input": [
      "def pearson_correlation(x, y):\n",
      "    \"\"\"\n",
      "    Return the Pearson correlation coefficient for the given vectors \n",
      "    by comparing only the entries both have in common. If SciPy returns \n",
      "    NaN, or the correlation is negative, we cannot use it in our weighted \n",
      "    average, so just return 0.\n",
      "    \"\"\"\n",
      "    common_x, common_y = get_common_ratings(x, y)\n",
      "    r, _ = pearsonr(common_x, common_y)\n",
      "    # Return zero if we can't use the correlation in our weighted average\n",
      "    if r < 0:\n",
      "        r = 0.0\n",
      "    return r"
     ],
     "language": "python",
     "metadata": {},
     "outputs": [],
     "prompt_number": 11
    },
    {
     "cell_type": "heading",
     "level": 2,
     "metadata": {},
     "source": [
      "User-based filtering"
     ]
    },
    {
     "cell_type": "markdown",
     "metadata": {},
     "source": [
      "To keep things simple, let's implement user-based collaborative filtering. There are three steps we'll need to complete:\n",
      "\n",
      "1. Compute a similarity score vector for the user we're interested in.\n",
      "2. Make a prediction for an item the user hasn't rated.\n",
      "3. Compute predictions for all the items the user hasn't rated, order these by strength and recommend the best."
     ]
    },
    {
     "cell_type": "heading",
     "level": 3,
     "metadata": {},
     "source": [
      "Computing the similarity score vector"
     ]
    },
    {
     "cell_type": "markdown",
     "metadata": {},
     "source": [
      "When making a recommendation for the $p^{th}$ user, the first step in user-based filtering is to choose an appropriate similarity measure - in our case, Pearson correlation - and compute a vector of similarity scores, $S_p = \\{s_1, s_2, \\ldots, s_{p-1}, s_{p+1}, \\ldots, s_n\\}$, between the user and the $n - 1$ other users. Remember, there's no need to include $s_p$ in each vector, as there is no need to calculate a user's similarity to itself.\n",
      "\n",
      "Complete the <tt>compute_user_similarity</tt> method below to compute a similarity score vector for a given user. The method should accept an integer user ID, corresponding to the row in the utility matrix the user is represented by, the utility matrix itself and, optionally, a similarity scoring function. By default, this has been set to <tt>pearson_correlation</tt>. Your method should return a similarity score vector in the form of a dictionary whose key-value pairs consist of the IDs of the other users in the utility matrix and their corresponding similarity to the given user ID, that is\n",
      "\n",
      "    compute_user_similarity(0, um) == {1: similarity(um[0], um[1]),\n",
      "                                       2: similarity(um[0], um[2]),\n",
      "                                       ...,\n",
      "                                       n: similarity(um[0], um[n])}"
     ]
    },
    {
     "cell_type": "code",
     "collapsed": false,
     "input": [
      "def compute_user_similarity(user_id, utility_matrix, similarity=pearson_correlation):\n",
      "    \"\"\"\n",
      "    Compute the similarity of the given user to the other \n",
      "    users in the given utility matrix.\n",
      "    \"\"\"\n",
      "    scores = {}\n",
      "    for other_user_id in range(len(utility_matrix)):\n",
      "        if other_user_id != user_id:\n",
      "            scores[other_user_id] = similarity(utility_matrix[user_id], utility_matrix[other_user_id])\n",
      "    return scores"
     ],
     "language": "python",
     "metadata": {},
     "outputs": [],
     "prompt_number": 13
    },
    {
     "cell_type": "markdown",
     "metadata": {},
     "source": [
      "Now, let's compute a similarity score vector for the first user in our utility matrix:"
     ]
    },
    {
     "cell_type": "code",
     "collapsed": false,
     "input": [
      "sim = compute_user_similarity(0, um)"
     ],
     "language": "python",
     "metadata": {},
     "outputs": [],
     "prompt_number": 15
    },
    {
     "cell_type": "heading",
     "level": 3,
     "metadata": {},
     "source": [
      "Making predictions"
     ]
    },
    {
     "cell_type": "markdown",
     "metadata": {},
     "source": [
      "If the $k^{th}$ item for the $p^{th}$ user is unrated, then we can predict its rating by computing the weighted average of every other user's rating for the $k^{th}$ item using $S_p$ as the weight vector, that is\n",
      "  \\begin{align}\n",
      "   \\hat{r}_{pk} = \\frac{ \\sum_{\\{i=1, i \\ne p, r_{ik} \\in \\mathbb{R}\\}}^{n} s_i r_{ik}}{\\sum_{\\{j=1, j \\ne p, r_{jk} \\in \\mathbb{R} \\}}^{n} s_j},\n",
      "  \\end{align}\n",
      "  where $\\hat{r}_{pk}$ is the predicted rating for the $k^{th}$ item by the $p^{th}$ user, $r_{ik}$ is the actual rating for the $k^{th}$ item by the $i^{th}$ user and $\\mathbb{R}$ denotes the set of real numbers.\n",
      "\n",
      "Next we need to write method `predict_rating` that accepts a user index, `p`, an item index, `k`, a utility matrix and a similarity score vector (i.e. the output of your `compute_user_similarity` method) as arguments and returns a predicted rating for that item."
     ]
    },
    {
     "cell_type": "code",
     "collapsed": false,
     "input": [
      "def predict_rating(p, k, utility_matrix, sim):\n",
      "    \"\"\"\n",
      "    Predict the rating for the item k and person p using the \n",
      "    given utility matrix and similarity score vector.\n",
      "    \"\"\"\n",
      "    # Compute the number of users\n",
      "    n = len(utility_matrix)\n",
      "    \n",
      "    # Compute the numerator and the denominator\n",
      "    num = 0.0\n",
      "    den = 0.0\n",
      "    for i in range(n):\n",
      "        if i != p:\n",
      "            r = utility_matrix[i][k]\n",
      "            # Check that r is a real number\n",
      "            if not np.isnan(r):\n",
      "                num += r * sim[i]\n",
      "                den += sim[i]\n",
      "    \n",
      "    # Return the predicted rating, if the denominator is greater \n",
      "    # than zero; otherwise, return 0.\n",
      "    if den > 0:\n",
      "        return num / den\n",
      "    else:\n",
      "        return 0"
     ],
     "language": "python",
     "metadata": {},
     "outputs": [],
     "prompt_number": 16
    },
    {
     "cell_type": "markdown",
     "metadata": {},
     "source": [
      "The tests below will help you check that you've got it right:"
     ]
    },
    {
     "cell_type": "code",
     "collapsed": false,
     "input": [
      "sim_critics = compute_user_similarity(5, critics.values)\n",
      "assert np.isclose(predict_rating(5, 4, critics.values, sim_critics), 3.35, atol=0.01)\n",
      "assert np.isclose(predict_rating(5, 1, critics.values, sim_critics), 2.83, atol=0.01)\n",
      "assert np.isclose(predict_rating(5, 0, critics.values, sim_critics), 2.53, atol=0.01)"
     ],
     "language": "python",
     "metadata": {},
     "outputs": [],
     "prompt_number": 17
    },
    {
     "cell_type": "heading",
     "level": 3,
     "metadata": {},
     "source": [
      "Making recommendations"
     ]
    },
    {
     "cell_type": "markdown",
     "metadata": {},
     "source": [
      "To make recommendations for the $p^{th}$ user, all we need to do is iterate over the items the user hasn't rated, generate predictions for these items, order the predictions from highest to lowest and present the best to the user. Let's do this in stages.\n",
      "\n",
      "First, we'll need to make predictions for each item the user hasn't rated. I've created a method `compute_predictions` that accepts a user index, `p`, and a utility matrix as arguments and returns a dictionary whose key-value pairs correspond to the item's index and predicted rating, respectively."
     ]
    },
    {
     "cell_type": "code",
     "collapsed": false,
     "input": [
      "def compute_predictions(p, utility_matrix, similarity=pearson_correlation):\n",
      "    \"\"\"\n",
      "    Compute predictions for each item user p has not rated and \n",
      "    return them in the form of a dictionary whose key-value pairs \n",
      "    correspond to the item's index and predicted rating, respectively.\n",
      "    \"\"\"\n",
      "    # Compute the similarity score vector\n",
      "    sim = compute_user_similarity(p, utility_matrix, similarity)\n",
      "    \n",
      "    # Compute the number of ratings in the user's row\n",
      "    m = len(utility_matrix[p])\n",
      "    \n",
      "    # Loop over each rating, check if it is NaN and predict a new rating if so\n",
      "    predictions = {}\n",
      "    for k in range(m):\n",
      "        rating = utility_matrix[p][k]\n",
      "        if np.isnan(rating):\n",
      "            predictions[k] = predict_rating(p, k, utility_matrix, sim)\n",
      "    \n",
      "    # Return the predictions\n",
      "    return predictions"
     ],
     "language": "python",
     "metadata": {},
     "outputs": [],
     "prompt_number": 18
    },
    {
     "cell_type": "markdown",
     "metadata": {},
     "source": [
      "Now, let's compute predictions for the first user in our utility matrix. As the user has not rated all the films, we end up prediciting a large number of ratings:"
     ]
    },
    {
     "cell_type": "code",
     "collapsed": false,
     "input": [
      "predictions = compute_predictions(0, um)\n",
      "print len(predictions)"
     ],
     "language": "python",
     "metadata": {},
     "outputs": [
      {
       "output_type": "stream",
       "stream": "stdout",
       "text": [
        "1393\n"
       ]
      }
     ],
     "prompt_number": 20
    },
    {
     "cell_type": "markdown",
     "metadata": {},
     "source": [
      "Next, we need to find the best predictions, i.e. those with the highest rating."
     ]
    },
    {
     "cell_type": "code",
     "collapsed": false,
     "input": [
      "def get_top_predictions(predictions, n):\n",
      "    \"\"\"\n",
      "    Return the indices of the top N predictions.\n",
      "    \"\"\"\n",
      "    top = sorted(predictions, key=predictions.get, reverse=True)\n",
      "    return top[:n]"
     ],
     "language": "python",
     "metadata": {},
     "outputs": [],
     "prompt_number": 21
    },
    {
     "cell_type": "markdown",
     "metadata": {},
     "source": [
      "Now, let's compute the indices of the five highest predicted ratings:"
     ]
    },
    {
     "cell_type": "code",
     "collapsed": false,
     "input": [
      "top_indices = get_top_predictions(predictions, 5)\n",
      "print top_indices"
     ],
     "language": "python",
     "metadata": {},
     "outputs": [
      {
       "output_type": "stream",
       "stream": "stdout",
       "text": [
        "[1288, 1552, 1555, 1606, 1631]\n"
       ]
      }
     ],
     "prompt_number": 23
    },
    {
     "cell_type": "markdown",
     "metadata": {},
     "source": [
      "Raw numbers aren't very intuitive, but because the indices in our utility matrix match our data frame, we can use the data frame to look up the names of the recommended films like this:"
     ]
    },
    {
     "cell_type": "code",
     "collapsed": false,
     "input": [
      "print df.columns[top_indices].values"
     ],
     "language": "python",
     "metadata": {},
     "outputs": [
      {
       "output_type": "stream",
       "stream": "stdout",
       "text": [
        "['Aiqing wansui (1994)' \"Someone Else's America (1995)\"\n",
        " 'Little City (1998)' 'Saint of Fort Washington, The (1993)'\n",
        " 'They Made Me a Criminal (1939)']\n"
       ]
      }
     ],
     "prompt_number": 24
    },
    {
     "cell_type": "heading",
     "level": 2,
     "metadata": {},
     "source": [
      "Bonus: do it yourself!"
     ]
    },
    {
     "cell_type": "markdown",
     "metadata": {},
     "source": [
      "Now that you know how to make recommendations for a user, why not try it yourself? You can add your own entry to the data frame and run the code again. Make sure to rate about twenty films to get a reasonable level of accuracy - the more you rate, the better the predictions will be!"
     ]
    },
    {
     "cell_type": "code",
     "collapsed": false,
     "input": [
      "my_ratings = DataFrame({\n",
      "    \"L.A. Confidential (1997)\": 3.5,\n",
      "    \"Jaws (1975)\": 3.5,\n",
      "    \"Evil Dead II (1987)\": 4.5,\n",
      "    \"Fargo (1996)\": 5.0,\n",
      "    \"Naked Gun 33 1/3: The Final Insult (1994)\": 2.5,\n",
      "    \"Wings of Desire (1987)\": 5.0,\n",
      "    \"North by Northwest (1959)\": 5.0,\n",
      "    \"Monty Python's Life of Brian (1979)\": 4.5,\n",
      "    \"Raiders of the Lost Ark (1981)\": 4.0,\n",
      "    \"Annie Hall (1977)\": 5.0,\n",
      "    \"True Lies (1994)\": 3.0,\n",
      "    \"GoldenEye (1995)\": 2.0,\n",
      "    \"Good, The Bad and The Ugly, The (1966)\": 4.0,\n",
      "    \"Empire Strikes Back, The (1980)\": 4.0,\n",
      "    \"Godfather, The (1972)\": 4.5,\n",
      "    \"Waterworld (1995)\": 1.0,\n",
      "    \"Blade Runner (1982)\": 4.0,\n",
      "    \"Seven (Se7en) (1995)\": 3.5,\n",
      "    \"Alien (1979)\": 4.0,\n",
      "    \"Free Willy (1993)\": 1.0\n",
      "}, index=[\"Donagh\"])"
     ],
     "language": "python",
     "metadata": {},
     "outputs": [],
     "prompt_number": 25
    },
    {
     "cell_type": "markdown",
     "metadata": {},
     "source": [
      "Run the code below to compute your recommendations:"
     ]
    },
    {
     "cell_type": "code",
     "collapsed": false,
     "input": [
      "my_df = df.append(my_ratings)\n",
      "my_um = my_df.values\n",
      "my_predictions = compute_predictions(list(my_df.index).index(my_ratings.index.values[0]), my_um)\n",
      "my_top_indices = get_top_predictions(my_predictions, 5)\n",
      "print df.columns[my_top_indices].values"
     ],
     "language": "python",
     "metadata": {},
     "outputs": [
      {
       "output_type": "stream",
       "stream": "stdout",
       "text": [
        "['Chasing Amy (1997)' 'Day the Earth Stood Still, The (1951)'\n",
        " 'Man Who Would Be King, The (1975)' \"Nobody's Fool (1994)\"\n",
        " 'Stripes (1981)']\n"
       ]
      }
     ],
     "prompt_number": 27
    }
   ],
   "metadata": {}
  }
 ]
}